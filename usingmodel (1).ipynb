{
 "cells": [
  {
   "cell_type": "code",
   "execution_count": 2,
   "id": "99db5c6d-6241-4fa3-9d6a-5279f0ce65ad",
   "metadata": {
    "tags": []
   },
   "outputs": [
    {
     "name": "stdin",
     "output_type": "stream",
     "text": [
      "今日の降水量(mm)を入力してください:  0\n",
      "今日の最高気温(℃)を入力してください:  21\n",
      "今日の最低気温(℃)を入力してください:  16\n",
      "該当する月の平均気温と最高気温の差(℃)を入力してください:  0.78\n",
      "該当する月の最高気温(℃)の平均値を入力してください:  18.7\n",
      "該当する月日の平均気温(℃)を入力してください:  17.8\n",
      "今日の湿度（％）を入力してください:  60\n"
     ]
    },
    {
     "name": "stdout",
     "output_type": "stream",
     "text": [
      "明日の最高気温は[20.30485899]度になるでしょう。\n",
      "暖かい天気となるでしょう\n"
     ]
    },
    {
     "name": "stderr",
     "output_type": "stream",
     "text": [
      "C:\\Users\\misak\\anaconda3\\lib\\site-packages\\sklearn\\base.py:450: UserWarning: X does not have valid feature names, but Ridge was fitted with feature names\n",
      "  warnings.warn(\n"
     ]
    }
   ],
   "source": [
    "### import numpy as np\n",
    "import pickle\n",
    "\n",
    "with open('tenkiyosoku.pkl', mode='rb') as f:\n",
    "    clf = pickle.load(f)\n",
    "\n",
    "new_data = []\n",
    "prompt_text = [\"今日の降水量(mm)を入力してください: \",\n",
    "               \"今日の最高気温(℃)を入力してください: \",\n",
    "               \"今日の最低気温(℃)を入力してください: \",\n",
    "               \"該当する月の平均気温と最高気温の差(℃)を入力してください: \",\n",
    "               \"該当する月の最高気温(℃)の平均値を入力してください: \",\n",
    "               \"該当する月日の平均気温(℃)を入力してください: \",\n",
    "               \"今日の湿度（％）を入力してください: \" ]\n",
    "\n",
    "for i in range(7):\n",
    "    val = input(prompt_text[i])\n",
    "    new_data.append(float(val))\n",
    "\n",
    "# モデルを使って新しいデータを予測する\n",
    "prediction = clf.predict([new_data])\n",
    "print(\"明日の最高気温は\"+ str(prediction) + \"度になるでしょう。\")\n",
    "\n",
    "    \n",
    "if prediction >= 35:\n",
    "    print(\"猛暑日になります。適度な休憩をとってお過ごしください\")\n",
    "if 30 <= prediction < 35 :\n",
    "    print(\"真夏日になります。水分補給をしっかりすることが大切です\")\n",
    "if 25 <= prediction < 30 :\n",
    "    print(\"夏日になります。涼しい恰好でお出かけするのがよいでしょう\")\n",
    "if 15 <= prediction < 25 :\n",
    "    print(\"暖かい天気となるでしょう\")\n",
    "if 10 <= prediction < 15 :\n",
    "    print(\"肌寒い天気となるでしょう。羽織るものを持っていくとよいです\")\n",
    "if 1 <= prediction < 10 :\n",
    "    print(\"寒い天気となるでしょう。防寒してお出かけ下さい\")\n",
    "if prediction <= 0:\n",
    "    print(\"真冬日となるでしょう。手袋などを使い、暖かくしてお出かけください。\")\n"
   ]
  },
  {
   "cell_type": "code",
   "execution_count": null,
   "id": "cbc76b48-c510-41ba-b76b-0f7584cbd2a3",
   "metadata": {},
   "outputs": [],
   "source": []
  }
 ],
 "metadata": {
  "kernelspec": {
   "display_name": "Python 3 (ipykernel)",
   "language": "python",
   "name": "python3"
  },
  "language_info": {
   "codemirror_mode": {
    "name": "ipython",
    "version": 3
   },
   "file_extension": ".py",
   "mimetype": "text/x-python",
   "name": "python",
   "nbconvert_exporter": "python",
   "pygments_lexer": "ipython3",
   "version": "3.9.13"
  }
 },
 "nbformat": 4,
 "nbformat_minor": 5
}
